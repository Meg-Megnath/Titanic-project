{
 "cells": [
  {
   "cell_type": "code",
   "execution_count": 1,
   "id": "81f3f82b",
   "metadata": {},
   "outputs": [],
   "source": [
    "import pandas as pd\n",
    "import numpy as np\n",
    "import seaborn as sns\n",
    "import matplotlib.pyplot as plt\n",
    "%matplotlib inline\n",
    "\n",
    "\n",
    "from sklearn.preprocessing import LabelEncoder, StandardScaler\n",
    "Le = LabelEncoder()\n",
    "Ss = StandardScaler()\n",
    "from sklearn.model_selection import train_test_split\n",
    "from sklearn.metrics import PrecisionRecallDisplay, precision_score, recall_score, f1_score, accuracy_score, confusion_matrix\n",
    "\n",
    "import warnings\n",
    "warnings.filterwarnings('ignore')"
   ]
  },
  {
   "cell_type": "code",
   "execution_count": 2,
   "id": "ef3664b4",
   "metadata": {},
   "outputs": [],
   "source": [
    "train = pd.read_csv('train.csv')\n",
    "test = pd.read_csv('test.csv')"
   ]
  },
  {
   "cell_type": "code",
   "execution_count": 3,
   "id": "08138274",
   "metadata": {},
   "outputs": [
    {
     "data": {
      "text/html": [
       "<div>\n",
       "<style scoped>\n",
       "    .dataframe tbody tr th:only-of-type {\n",
       "        vertical-align: middle;\n",
       "    }\n",
       "\n",
       "    .dataframe tbody tr th {\n",
       "        vertical-align: top;\n",
       "    }\n",
       "\n",
       "    .dataframe thead th {\n",
       "        text-align: right;\n",
       "    }\n",
       "</style>\n",
       "<table border=\"1\" class=\"dataframe\">\n",
       "  <thead>\n",
       "    <tr style=\"text-align: right;\">\n",
       "      <th></th>\n",
       "      <th>PassengerId</th>\n",
       "      <th>Survived</th>\n",
       "      <th>Pclass</th>\n",
       "      <th>Name</th>\n",
       "      <th>Sex</th>\n",
       "      <th>Age</th>\n",
       "      <th>SibSp</th>\n",
       "      <th>Parch</th>\n",
       "      <th>Ticket</th>\n",
       "      <th>Fare</th>\n",
       "      <th>Cabin</th>\n",
       "      <th>Embarked</th>\n",
       "    </tr>\n",
       "  </thead>\n",
       "  <tbody>\n",
       "    <tr>\n",
       "      <th>0</th>\n",
       "      <td>1</td>\n",
       "      <td>0</td>\n",
       "      <td>3</td>\n",
       "      <td>Braund, Mr. Owen Harris</td>\n",
       "      <td>male</td>\n",
       "      <td>22.0</td>\n",
       "      <td>1</td>\n",
       "      <td>0</td>\n",
       "      <td>A/5 21171</td>\n",
       "      <td>7.2500</td>\n",
       "      <td>NaN</td>\n",
       "      <td>S</td>\n",
       "    </tr>\n",
       "    <tr>\n",
       "      <th>1</th>\n",
       "      <td>2</td>\n",
       "      <td>1</td>\n",
       "      <td>1</td>\n",
       "      <td>Cumings, Mrs. John Bradley (Florence Briggs Th...</td>\n",
       "      <td>female</td>\n",
       "      <td>38.0</td>\n",
       "      <td>1</td>\n",
       "      <td>0</td>\n",
       "      <td>PC 17599</td>\n",
       "      <td>71.2833</td>\n",
       "      <td>C85</td>\n",
       "      <td>C</td>\n",
       "    </tr>\n",
       "    <tr>\n",
       "      <th>2</th>\n",
       "      <td>3</td>\n",
       "      <td>1</td>\n",
       "      <td>3</td>\n",
       "      <td>Heikkinen, Miss. Laina</td>\n",
       "      <td>female</td>\n",
       "      <td>26.0</td>\n",
       "      <td>0</td>\n",
       "      <td>0</td>\n",
       "      <td>STON/O2. 3101282</td>\n",
       "      <td>7.9250</td>\n",
       "      <td>NaN</td>\n",
       "      <td>S</td>\n",
       "    </tr>\n",
       "    <tr>\n",
       "      <th>3</th>\n",
       "      <td>4</td>\n",
       "      <td>1</td>\n",
       "      <td>1</td>\n",
       "      <td>Futrelle, Mrs. Jacques Heath (Lily May Peel)</td>\n",
       "      <td>female</td>\n",
       "      <td>35.0</td>\n",
       "      <td>1</td>\n",
       "      <td>0</td>\n",
       "      <td>113803</td>\n",
       "      <td>53.1000</td>\n",
       "      <td>C123</td>\n",
       "      <td>S</td>\n",
       "    </tr>\n",
       "    <tr>\n",
       "      <th>4</th>\n",
       "      <td>5</td>\n",
       "      <td>0</td>\n",
       "      <td>3</td>\n",
       "      <td>Allen, Mr. William Henry</td>\n",
       "      <td>male</td>\n",
       "      <td>35.0</td>\n",
       "      <td>0</td>\n",
       "      <td>0</td>\n",
       "      <td>373450</td>\n",
       "      <td>8.0500</td>\n",
       "      <td>NaN</td>\n",
       "      <td>S</td>\n",
       "    </tr>\n",
       "  </tbody>\n",
       "</table>\n",
       "</div>"
      ],
      "text/plain": [
       "   PassengerId  Survived  Pclass  \\\n",
       "0            1         0       3   \n",
       "1            2         1       1   \n",
       "2            3         1       3   \n",
       "3            4         1       1   \n",
       "4            5         0       3   \n",
       "\n",
       "                                                Name     Sex   Age  SibSp  \\\n",
       "0                            Braund, Mr. Owen Harris    male  22.0      1   \n",
       "1  Cumings, Mrs. John Bradley (Florence Briggs Th...  female  38.0      1   \n",
       "2                             Heikkinen, Miss. Laina  female  26.0      0   \n",
       "3       Futrelle, Mrs. Jacques Heath (Lily May Peel)  female  35.0      1   \n",
       "4                           Allen, Mr. William Henry    male  35.0      0   \n",
       "\n",
       "   Parch            Ticket     Fare Cabin Embarked  \n",
       "0      0         A/5 21171   7.2500   NaN        S  \n",
       "1      0          PC 17599  71.2833   C85        C  \n",
       "2      0  STON/O2. 3101282   7.9250   NaN        S  \n",
       "3      0            113803  53.1000  C123        S  \n",
       "4      0            373450   8.0500   NaN        S  "
      ]
     },
     "execution_count": 3,
     "metadata": {},
     "output_type": "execute_result"
    }
   ],
   "source": [
    "train.head(5)"
   ]
  },
  {
   "cell_type": "code",
   "execution_count": 4,
   "id": "8c800e65",
   "metadata": {},
   "outputs": [
    {
     "data": {
      "text/html": [
       "<div>\n",
       "<style scoped>\n",
       "    .dataframe tbody tr th:only-of-type {\n",
       "        vertical-align: middle;\n",
       "    }\n",
       "\n",
       "    .dataframe tbody tr th {\n",
       "        vertical-align: top;\n",
       "    }\n",
       "\n",
       "    .dataframe thead th {\n",
       "        text-align: right;\n",
       "    }\n",
       "</style>\n",
       "<table border=\"1\" class=\"dataframe\">\n",
       "  <thead>\n",
       "    <tr style=\"text-align: right;\">\n",
       "      <th></th>\n",
       "      <th>PassengerId</th>\n",
       "      <th>Pclass</th>\n",
       "      <th>Name</th>\n",
       "      <th>Sex</th>\n",
       "      <th>Age</th>\n",
       "      <th>SibSp</th>\n",
       "      <th>Parch</th>\n",
       "      <th>Ticket</th>\n",
       "      <th>Fare</th>\n",
       "      <th>Cabin</th>\n",
       "      <th>Embarked</th>\n",
       "    </tr>\n",
       "  </thead>\n",
       "  <tbody>\n",
       "    <tr>\n",
       "      <th>0</th>\n",
       "      <td>892</td>\n",
       "      <td>3</td>\n",
       "      <td>Kelly, Mr. James</td>\n",
       "      <td>male</td>\n",
       "      <td>34.5</td>\n",
       "      <td>0</td>\n",
       "      <td>0</td>\n",
       "      <td>330911</td>\n",
       "      <td>7.8292</td>\n",
       "      <td>NaN</td>\n",
       "      <td>Q</td>\n",
       "    </tr>\n",
       "    <tr>\n",
       "      <th>1</th>\n",
       "      <td>893</td>\n",
       "      <td>3</td>\n",
       "      <td>Wilkes, Mrs. James (Ellen Needs)</td>\n",
       "      <td>female</td>\n",
       "      <td>47.0</td>\n",
       "      <td>1</td>\n",
       "      <td>0</td>\n",
       "      <td>363272</td>\n",
       "      <td>7.0000</td>\n",
       "      <td>NaN</td>\n",
       "      <td>S</td>\n",
       "    </tr>\n",
       "    <tr>\n",
       "      <th>2</th>\n",
       "      <td>894</td>\n",
       "      <td>2</td>\n",
       "      <td>Myles, Mr. Thomas Francis</td>\n",
       "      <td>male</td>\n",
       "      <td>62.0</td>\n",
       "      <td>0</td>\n",
       "      <td>0</td>\n",
       "      <td>240276</td>\n",
       "      <td>9.6875</td>\n",
       "      <td>NaN</td>\n",
       "      <td>Q</td>\n",
       "    </tr>\n",
       "    <tr>\n",
       "      <th>3</th>\n",
       "      <td>895</td>\n",
       "      <td>3</td>\n",
       "      <td>Wirz, Mr. Albert</td>\n",
       "      <td>male</td>\n",
       "      <td>27.0</td>\n",
       "      <td>0</td>\n",
       "      <td>0</td>\n",
       "      <td>315154</td>\n",
       "      <td>8.6625</td>\n",
       "      <td>NaN</td>\n",
       "      <td>S</td>\n",
       "    </tr>\n",
       "    <tr>\n",
       "      <th>4</th>\n",
       "      <td>896</td>\n",
       "      <td>3</td>\n",
       "      <td>Hirvonen, Mrs. Alexander (Helga E Lindqvist)</td>\n",
       "      <td>female</td>\n",
       "      <td>22.0</td>\n",
       "      <td>1</td>\n",
       "      <td>1</td>\n",
       "      <td>3101298</td>\n",
       "      <td>12.2875</td>\n",
       "      <td>NaN</td>\n",
       "      <td>S</td>\n",
       "    </tr>\n",
       "  </tbody>\n",
       "</table>\n",
       "</div>"
      ],
      "text/plain": [
       "   PassengerId  Pclass                                          Name     Sex  \\\n",
       "0          892       3                              Kelly, Mr. James    male   \n",
       "1          893       3              Wilkes, Mrs. James (Ellen Needs)  female   \n",
       "2          894       2                     Myles, Mr. Thomas Francis    male   \n",
       "3          895       3                              Wirz, Mr. Albert    male   \n",
       "4          896       3  Hirvonen, Mrs. Alexander (Helga E Lindqvist)  female   \n",
       "\n",
       "    Age  SibSp  Parch   Ticket     Fare Cabin Embarked  \n",
       "0  34.5      0      0   330911   7.8292   NaN        Q  \n",
       "1  47.0      1      0   363272   7.0000   NaN        S  \n",
       "2  62.0      0      0   240276   9.6875   NaN        Q  \n",
       "3  27.0      0      0   315154   8.6625   NaN        S  \n",
       "4  22.0      1      1  3101298  12.2875   NaN        S  "
      ]
     },
     "execution_count": 4,
     "metadata": {},
     "output_type": "execute_result"
    }
   ],
   "source": [
    "test.head(5)"
   ]
  },
  {
   "cell_type": "markdown",
   "id": "72d26946",
   "metadata": {},
   "source": [
    "# Data Analysis "
   ]
  },
  {
   "cell_type": "code",
   "execution_count": 5,
   "id": "7cc6c5cb",
   "metadata": {},
   "outputs": [
    {
     "data": {
      "text/html": [
       "<div>\n",
       "<style scoped>\n",
       "    .dataframe tbody tr th:only-of-type {\n",
       "        vertical-align: middle;\n",
       "    }\n",
       "\n",
       "    .dataframe tbody tr th {\n",
       "        vertical-align: top;\n",
       "    }\n",
       "\n",
       "    .dataframe thead th {\n",
       "        text-align: right;\n",
       "    }\n",
       "</style>\n",
       "<table border=\"1\" class=\"dataframe\">\n",
       "  <thead>\n",
       "    <tr style=\"text-align: right;\">\n",
       "      <th></th>\n",
       "      <th>PassengerId</th>\n",
       "      <th>Survived</th>\n",
       "      <th>Pclass</th>\n",
       "      <th>Age</th>\n",
       "      <th>SibSp</th>\n",
       "      <th>Parch</th>\n",
       "      <th>Fare</th>\n",
       "    </tr>\n",
       "  </thead>\n",
       "  <tbody>\n",
       "    <tr>\n",
       "      <th>count</th>\n",
       "      <td>891.000000</td>\n",
       "      <td>891.000000</td>\n",
       "      <td>891.000000</td>\n",
       "      <td>714.000000</td>\n",
       "      <td>891.000000</td>\n",
       "      <td>891.000000</td>\n",
       "      <td>891.000000</td>\n",
       "    </tr>\n",
       "    <tr>\n",
       "      <th>mean</th>\n",
       "      <td>446.000000</td>\n",
       "      <td>0.383838</td>\n",
       "      <td>2.308642</td>\n",
       "      <td>29.699118</td>\n",
       "      <td>0.523008</td>\n",
       "      <td>0.381594</td>\n",
       "      <td>32.204208</td>\n",
       "    </tr>\n",
       "    <tr>\n",
       "      <th>std</th>\n",
       "      <td>257.353842</td>\n",
       "      <td>0.486592</td>\n",
       "      <td>0.836071</td>\n",
       "      <td>14.526497</td>\n",
       "      <td>1.102743</td>\n",
       "      <td>0.806057</td>\n",
       "      <td>49.693429</td>\n",
       "    </tr>\n",
       "    <tr>\n",
       "      <th>min</th>\n",
       "      <td>1.000000</td>\n",
       "      <td>0.000000</td>\n",
       "      <td>1.000000</td>\n",
       "      <td>0.420000</td>\n",
       "      <td>0.000000</td>\n",
       "      <td>0.000000</td>\n",
       "      <td>0.000000</td>\n",
       "    </tr>\n",
       "    <tr>\n",
       "      <th>25%</th>\n",
       "      <td>223.500000</td>\n",
       "      <td>0.000000</td>\n",
       "      <td>2.000000</td>\n",
       "      <td>20.125000</td>\n",
       "      <td>0.000000</td>\n",
       "      <td>0.000000</td>\n",
       "      <td>7.910400</td>\n",
       "    </tr>\n",
       "    <tr>\n",
       "      <th>50%</th>\n",
       "      <td>446.000000</td>\n",
       "      <td>0.000000</td>\n",
       "      <td>3.000000</td>\n",
       "      <td>28.000000</td>\n",
       "      <td>0.000000</td>\n",
       "      <td>0.000000</td>\n",
       "      <td>14.454200</td>\n",
       "    </tr>\n",
       "    <tr>\n",
       "      <th>75%</th>\n",
       "      <td>668.500000</td>\n",
       "      <td>1.000000</td>\n",
       "      <td>3.000000</td>\n",
       "      <td>38.000000</td>\n",
       "      <td>1.000000</td>\n",
       "      <td>0.000000</td>\n",
       "      <td>31.000000</td>\n",
       "    </tr>\n",
       "    <tr>\n",
       "      <th>max</th>\n",
       "      <td>891.000000</td>\n",
       "      <td>1.000000</td>\n",
       "      <td>3.000000</td>\n",
       "      <td>80.000000</td>\n",
       "      <td>8.000000</td>\n",
       "      <td>6.000000</td>\n",
       "      <td>512.329200</td>\n",
       "    </tr>\n",
       "  </tbody>\n",
       "</table>\n",
       "</div>"
      ],
      "text/plain": [
       "       PassengerId    Survived      Pclass         Age       SibSp  \\\n",
       "count   891.000000  891.000000  891.000000  714.000000  891.000000   \n",
       "mean    446.000000    0.383838    2.308642   29.699118    0.523008   \n",
       "std     257.353842    0.486592    0.836071   14.526497    1.102743   \n",
       "min       1.000000    0.000000    1.000000    0.420000    0.000000   \n",
       "25%     223.500000    0.000000    2.000000   20.125000    0.000000   \n",
       "50%     446.000000    0.000000    3.000000   28.000000    0.000000   \n",
       "75%     668.500000    1.000000    3.000000   38.000000    1.000000   \n",
       "max     891.000000    1.000000    3.000000   80.000000    8.000000   \n",
       "\n",
       "            Parch        Fare  \n",
       "count  891.000000  891.000000  \n",
       "mean     0.381594   32.204208  \n",
       "std      0.806057   49.693429  \n",
       "min      0.000000    0.000000  \n",
       "25%      0.000000    7.910400  \n",
       "50%      0.000000   14.454200  \n",
       "75%      0.000000   31.000000  \n",
       "max      6.000000  512.329200  "
      ]
     },
     "execution_count": 5,
     "metadata": {},
     "output_type": "execute_result"
    }
   ],
   "source": [
    "train.describe()"
   ]
  },
  {
   "cell_type": "code",
   "execution_count": 6,
   "id": "43205bce",
   "metadata": {},
   "outputs": [
    {
     "data": {
      "text/html": [
       "<div>\n",
       "<style scoped>\n",
       "    .dataframe tbody tr th:only-of-type {\n",
       "        vertical-align: middle;\n",
       "    }\n",
       "\n",
       "    .dataframe tbody tr th {\n",
       "        vertical-align: top;\n",
       "    }\n",
       "\n",
       "    .dataframe thead th {\n",
       "        text-align: right;\n",
       "    }\n",
       "</style>\n",
       "<table border=\"1\" class=\"dataframe\">\n",
       "  <thead>\n",
       "    <tr style=\"text-align: right;\">\n",
       "      <th></th>\n",
       "      <th>PassengerId</th>\n",
       "      <th>Pclass</th>\n",
       "      <th>Age</th>\n",
       "      <th>SibSp</th>\n",
       "      <th>Parch</th>\n",
       "      <th>Fare</th>\n",
       "    </tr>\n",
       "  </thead>\n",
       "  <tbody>\n",
       "    <tr>\n",
       "      <th>count</th>\n",
       "      <td>418.000000</td>\n",
       "      <td>418.000000</td>\n",
       "      <td>332.000000</td>\n",
       "      <td>418.000000</td>\n",
       "      <td>418.000000</td>\n",
       "      <td>417.000000</td>\n",
       "    </tr>\n",
       "    <tr>\n",
       "      <th>mean</th>\n",
       "      <td>1100.500000</td>\n",
       "      <td>2.265550</td>\n",
       "      <td>30.272590</td>\n",
       "      <td>0.447368</td>\n",
       "      <td>0.392344</td>\n",
       "      <td>35.627188</td>\n",
       "    </tr>\n",
       "    <tr>\n",
       "      <th>std</th>\n",
       "      <td>120.810458</td>\n",
       "      <td>0.841838</td>\n",
       "      <td>14.181209</td>\n",
       "      <td>0.896760</td>\n",
       "      <td>0.981429</td>\n",
       "      <td>55.907576</td>\n",
       "    </tr>\n",
       "    <tr>\n",
       "      <th>min</th>\n",
       "      <td>892.000000</td>\n",
       "      <td>1.000000</td>\n",
       "      <td>0.170000</td>\n",
       "      <td>0.000000</td>\n",
       "      <td>0.000000</td>\n",
       "      <td>0.000000</td>\n",
       "    </tr>\n",
       "    <tr>\n",
       "      <th>25%</th>\n",
       "      <td>996.250000</td>\n",
       "      <td>1.000000</td>\n",
       "      <td>21.000000</td>\n",
       "      <td>0.000000</td>\n",
       "      <td>0.000000</td>\n",
       "      <td>7.895800</td>\n",
       "    </tr>\n",
       "    <tr>\n",
       "      <th>50%</th>\n",
       "      <td>1100.500000</td>\n",
       "      <td>3.000000</td>\n",
       "      <td>27.000000</td>\n",
       "      <td>0.000000</td>\n",
       "      <td>0.000000</td>\n",
       "      <td>14.454200</td>\n",
       "    </tr>\n",
       "    <tr>\n",
       "      <th>75%</th>\n",
       "      <td>1204.750000</td>\n",
       "      <td>3.000000</td>\n",
       "      <td>39.000000</td>\n",
       "      <td>1.000000</td>\n",
       "      <td>0.000000</td>\n",
       "      <td>31.500000</td>\n",
       "    </tr>\n",
       "    <tr>\n",
       "      <th>max</th>\n",
       "      <td>1309.000000</td>\n",
       "      <td>3.000000</td>\n",
       "      <td>76.000000</td>\n",
       "      <td>8.000000</td>\n",
       "      <td>9.000000</td>\n",
       "      <td>512.329200</td>\n",
       "    </tr>\n",
       "  </tbody>\n",
       "</table>\n",
       "</div>"
      ],
      "text/plain": [
       "       PassengerId      Pclass         Age       SibSp       Parch        Fare\n",
       "count   418.000000  418.000000  332.000000  418.000000  418.000000  417.000000\n",
       "mean   1100.500000    2.265550   30.272590    0.447368    0.392344   35.627188\n",
       "std     120.810458    0.841838   14.181209    0.896760    0.981429   55.907576\n",
       "min     892.000000    1.000000    0.170000    0.000000    0.000000    0.000000\n",
       "25%     996.250000    1.000000   21.000000    0.000000    0.000000    7.895800\n",
       "50%    1100.500000    3.000000   27.000000    0.000000    0.000000   14.454200\n",
       "75%    1204.750000    3.000000   39.000000    1.000000    0.000000   31.500000\n",
       "max    1309.000000    3.000000   76.000000    8.000000    9.000000  512.329200"
      ]
     },
     "execution_count": 6,
     "metadata": {},
     "output_type": "execute_result"
    }
   ],
   "source": [
    "test.describe()"
   ]
  },
  {
   "cell_type": "code",
   "execution_count": 7,
   "id": "13421ef9",
   "metadata": {},
   "outputs": [
    {
     "data": {
      "text/plain": [
       "(891, 12)"
      ]
     },
     "execution_count": 7,
     "metadata": {},
     "output_type": "execute_result"
    }
   ],
   "source": [
    "train.shape"
   ]
  },
  {
   "cell_type": "code",
   "execution_count": 8,
   "id": "41a419c3",
   "metadata": {},
   "outputs": [
    {
     "data": {
      "text/plain": [
       "(418, 11)"
      ]
     },
     "execution_count": 8,
     "metadata": {},
     "output_type": "execute_result"
    }
   ],
   "source": [
    "test.shape"
   ]
  },
  {
   "cell_type": "code",
   "execution_count": 9,
   "id": "5b0f49b7",
   "metadata": {},
   "outputs": [
    {
     "data": {
      "text/plain": [
       "PassengerId      0\n",
       "Survived         0\n",
       "Pclass           0\n",
       "Name             0\n",
       "Sex              0\n",
       "Age            177\n",
       "SibSp            0\n",
       "Parch            0\n",
       "Ticket           0\n",
       "Fare             0\n",
       "Cabin          687\n",
       "Embarked         2\n",
       "dtype: int64"
      ]
     },
     "execution_count": 9,
     "metadata": {},
     "output_type": "execute_result"
    }
   ],
   "source": [
    "train.isnull().sum()"
   ]
  },
  {
   "cell_type": "code",
   "execution_count": 10,
   "id": "7e20cc34",
   "metadata": {},
   "outputs": [
    {
     "data": {
      "text/plain": [
       "PassengerId      0\n",
       "Pclass           0\n",
       "Name             0\n",
       "Sex              0\n",
       "Age             86\n",
       "SibSp            0\n",
       "Parch            0\n",
       "Ticket           0\n",
       "Fare             1\n",
       "Cabin          327\n",
       "Embarked         0\n",
       "dtype: int64"
      ]
     },
     "execution_count": 10,
     "metadata": {},
     "output_type": "execute_result"
    }
   ],
   "source": [
    "test.isnull().sum()"
   ]
  },
  {
   "cell_type": "code",
   "execution_count": 11,
   "id": "90bb1add",
   "metadata": {},
   "outputs": [
    {
     "name": "stdout",
     "output_type": "stream",
     "text": [
      "<class 'pandas.core.frame.DataFrame'>\n",
      "RangeIndex: 891 entries, 0 to 890\n",
      "Data columns (total 12 columns):\n",
      " #   Column       Non-Null Count  Dtype  \n",
      "---  ------       --------------  -----  \n",
      " 0   PassengerId  891 non-null    int64  \n",
      " 1   Survived     891 non-null    int64  \n",
      " 2   Pclass       891 non-null    int64  \n",
      " 3   Name         891 non-null    object \n",
      " 4   Sex          891 non-null    object \n",
      " 5   Age          714 non-null    float64\n",
      " 6   SibSp        891 non-null    int64  \n",
      " 7   Parch        891 non-null    int64  \n",
      " 8   Ticket       891 non-null    object \n",
      " 9   Fare         891 non-null    float64\n",
      " 10  Cabin        204 non-null    object \n",
      " 11  Embarked     889 non-null    object \n",
      "dtypes: float64(2), int64(5), object(5)\n",
      "memory usage: 83.7+ KB\n"
     ]
    }
   ],
   "source": [
    "train.info()"
   ]
  },
  {
   "cell_type": "code",
   "execution_count": 12,
   "id": "6a8c425f",
   "metadata": {},
   "outputs": [
    {
     "name": "stdout",
     "output_type": "stream",
     "text": [
      "<class 'pandas.core.frame.DataFrame'>\n",
      "RangeIndex: 418 entries, 0 to 417\n",
      "Data columns (total 11 columns):\n",
      " #   Column       Non-Null Count  Dtype  \n",
      "---  ------       --------------  -----  \n",
      " 0   PassengerId  418 non-null    int64  \n",
      " 1   Pclass       418 non-null    int64  \n",
      " 2   Name         418 non-null    object \n",
      " 3   Sex          418 non-null    object \n",
      " 4   Age          332 non-null    float64\n",
      " 5   SibSp        418 non-null    int64  \n",
      " 6   Parch        418 non-null    int64  \n",
      " 7   Ticket       418 non-null    object \n",
      " 8   Fare         417 non-null    float64\n",
      " 9   Cabin        91 non-null     object \n",
      " 10  Embarked     418 non-null    object \n",
      "dtypes: float64(2), int64(4), object(5)\n",
      "memory usage: 36.0+ KB\n"
     ]
    }
   ],
   "source": [
    "test.info()"
   ]
  },
  {
   "cell_type": "markdown",
   "id": "fc6cfc3c",
   "metadata": {},
   "source": [
    "# Data Visualization"
   ]
  },
  {
   "cell_type": "code",
   "execution_count": 13,
   "id": "d77e844f",
   "metadata": {},
   "outputs": [
    {
     "data": {
      "text/plain": [
       "<AxesSubplot:xlabel='Sex', ylabel='Survived'>"
      ]
     },
     "execution_count": 13,
     "metadata": {},
     "output_type": "execute_result"
    },
    {
     "data": {
      "image/png": "[encoded data removed]",
      "text/plain": [
       "<Figure size 432x288 with 1 Axes>"
      ]
     },
     "metadata": {
      "needs_background": "light"
     },
     "output_type": "display_data"
    }
   ],
   "source": [
    "sns.barplot(x = 'Sex', y = \"Survived\", data = train)"
   ]
  },
  {
   "cell_type": "markdown",
   "id": "97d8462f",
   "metadata": {},
   "source": [
    "Survival rate of women is more compared to Men"
   ]
  },
  {
   "cell_type": "code",
   "execution_count": 14,
   "id": "c88be033",
   "metadata": {},
   "outputs": [
    {
     "data": {
      "text/plain": [
       "<AxesSubplot:xlabel='Pclass', ylabel='Survived'>"
      ]
     },
     "execution_count": 14,
     "metadata": {},
     "output_type": "execute_result"
    },
    {
     "data": {
      "image/png": "[encoded data removed]",
      "text/plain": [
       "<Figure size 432x288 with 1 Axes>"
      ]
     },
     "metadata": {
      "needs_background": "light"
     },
     "output_type": "display_data"
    }
   ],
   "source": [
    "sns.barplot(x = 'Pclass', y = \"Survived\", data = train)"
   ]
  },
  {
   "cell_type": "markdown",
   "id": "288186e5",
   "metadata": {},
   "source": [
    "Survival rate is higher in Pclass1 compared to Pclass2 and Pclass3"
   ]
  },
  {
   "cell_type": "code",
   "execution_count": 15,
   "id": "4aae61b4",
   "metadata": {},
   "outputs": [
    {
     "data": {
      "text/plain": [
       "<AxesSubplot:xlabel='SibSp', ylabel='Survived'>"
      ]
     },
     "execution_count": 15,
     "metadata": {},
     "output_type": "execute_result"
    },
    {
     "data": {
      "image/png": "[encoded data removed]",
      "text/plain": [
       "<Figure size 432x288 with 1 Axes>"
      ]
     },
     "metadata": {
      "needs_background": "light"
     },
     "output_type": "display_data"
    }
   ],
   "source": [
    "sns.barplot(x = 'SibSp', y = \"Survived\", data = train)"
   ]
  },
  {
   "cell_type": "markdown",
   "id": "128f5a5a",
   "metadata": {},
   "source": [
    "Survival rate is higher in Sibsp2 compared to others"
   ]
  },
  {
   "cell_type": "code",
   "execution_count": 16,
   "id": "313be83e",
   "metadata": {},
   "outputs": [
    {
     "data": {
      "text/plain": [
       "<AxesSubplot:xlabel='Parch', ylabel='Survived'>"
      ]
     },
     "execution_count": 16,
     "metadata": {},
     "output_type": "execute_result"
    },
    {
     "data": {
      "image/png": "[encoded data removed]",
      "text/plain": [
       "<Figure size 432x288 with 1 Axes>"
      ]
     },
     "metadata": {
      "needs_background": "light"
     },
     "output_type": "display_data"
    }
   ],
   "source": [
    "sns.barplot(x = 'Parch', y = \"Survived\", data = train)"
   ]
  },
  {
   "cell_type": "markdown",
   "id": "e788ba40",
   "metadata": {},
   "source": [
    "Survival rate is higher in Parch3 compared to others"
   ]
  },
  {
   "cell_type": "code",
   "execution_count": 17,
   "id": "a2884f38",
   "metadata": {},
   "outputs": [],
   "source": [
    "train[\"Age\"] = pd.cut(train['Age'], bins = np.linspace(0, 80, 5))"
   ]
  },
  {
   "cell_type": "code",
   "execution_count": 18,
   "id": "28f4e630",
   "metadata": {},
   "outputs": [],
   "source": [
    "test[\"Age\"] = pd.cut(test['Age'], bins = np.linspace(0, 80, 5))"
   ]
  },
  {
   "cell_type": "code",
   "execution_count": 19,
   "id": "88423602",
   "metadata": {},
   "outputs": [
    {
     "data": {
      "text/plain": [
       "<AxesSubplot:xlabel='Age', ylabel='Survived'>"
      ]
     },
     "execution_count": 19,
     "metadata": {},
     "output_type": "execute_result"
    },
    {
     "data": {
      "image/png": "[encoded data removed]",
      "text/plain": [
       "<Figure size 432x288 with 1 Axes>"
      ]
     },
     "metadata": {
      "needs_background": "light"
     },
     "output_type": "display_data"
    }
   ],
   "source": [
    "sns.barplot(x = \"Age\", y = \"Survived\", data = train)"
   ]
  },
  {
   "cell_type": "markdown",
   "id": "e86e7df6",
   "metadata": {},
   "source": [
    "# Data Cleaning"
   ]
  },
  {
   "cell_type": "code",
   "execution_count": 20,
   "id": "34bf95d8",
   "metadata": {},
   "outputs": [
    {
     "data": {
      "text/html": [
       "<div>\n",
       "<style scoped>\n",
       "    .dataframe tbody tr th:only-of-type {\n",
       "        vertical-align: middle;\n",
       "    }\n",
       "\n",
       "    .dataframe tbody tr th {\n",
       "        vertical-align: top;\n",
       "    }\n",
       "\n",
       "    .dataframe thead th {\n",
       "        text-align: right;\n",
       "    }\n",
       "</style>\n",
       "<table border=\"1\" class=\"dataframe\">\n",
       "  <thead>\n",
       "    <tr style=\"text-align: right;\">\n",
       "      <th></th>\n",
       "      <th>PassengerId</th>\n",
       "      <th>Survived</th>\n",
       "      <th>Pclass</th>\n",
       "      <th>Name</th>\n",
       "      <th>Sex</th>\n",
       "      <th>Age</th>\n",
       "      <th>SibSp</th>\n",
       "      <th>Parch</th>\n",
       "      <th>Ticket</th>\n",
       "      <th>Fare</th>\n",
       "      <th>Cabin</th>\n",
       "      <th>Embarked</th>\n",
       "    </tr>\n",
       "  </thead>\n",
       "  <tbody>\n",
       "    <tr>\n",
       "      <th>count</th>\n",
       "      <td>891.000000</td>\n",
       "      <td>891.000000</td>\n",
       "      <td>891.000000</td>\n",
       "      <td>891</td>\n",
       "      <td>891</td>\n",
       "      <td>714</td>\n",
       "      <td>891.000000</td>\n",
       "      <td>891.000000</td>\n",
       "      <td>891</td>\n",
       "      <td>891.000000</td>\n",
       "      <td>204</td>\n",
       "      <td>889</td>\n",
       "    </tr>\n",
       "    <tr>\n",
       "      <th>unique</th>\n",
       "      <td>NaN</td>\n",
       "      <td>NaN</td>\n",
       "      <td>NaN</td>\n",
       "      <td>891</td>\n",
       "      <td>2</td>\n",
       "      <td>4</td>\n",
       "      <td>NaN</td>\n",
       "      <td>NaN</td>\n",
       "      <td>681</td>\n",
       "      <td>NaN</td>\n",
       "      <td>147</td>\n",
       "      <td>3</td>\n",
       "    </tr>\n",
       "    <tr>\n",
       "      <th>top</th>\n",
       "      <td>NaN</td>\n",
       "      <td>NaN</td>\n",
       "      <td>NaN</td>\n",
       "      <td>Butt, Major. Archibald Willingham</td>\n",
       "      <td>male</td>\n",
       "      <td>(20.0, 40.0]</td>\n",
       "      <td>NaN</td>\n",
       "      <td>NaN</td>\n",
       "      <td>347082</td>\n",
       "      <td>NaN</td>\n",
       "      <td>C23 C25 C27</td>\n",
       "      <td>S</td>\n",
       "    </tr>\n",
       "    <tr>\n",
       "      <th>freq</th>\n",
       "      <td>NaN</td>\n",
       "      <td>NaN</td>\n",
       "      <td>NaN</td>\n",
       "      <td>1</td>\n",
       "      <td>577</td>\n",
       "      <td>385</td>\n",
       "      <td>NaN</td>\n",
       "      <td>NaN</td>\n",
       "      <td>7</td>\n",
       "      <td>NaN</td>\n",
       "      <td>4</td>\n",
       "      <td>644</td>\n",
       "    </tr>\n",
       "    <tr>\n",
       "      <th>mean</th>\n",
       "      <td>446.000000</td>\n",
       "      <td>0.383838</td>\n",
       "      <td>2.308642</td>\n",
       "      <td>NaN</td>\n",
       "      <td>NaN</td>\n",
       "      <td>NaN</td>\n",
       "      <td>0.523008</td>\n",
       "      <td>0.381594</td>\n",
       "      <td>NaN</td>\n",
       "      <td>32.204208</td>\n",
       "      <td>NaN</td>\n",
       "      <td>NaN</td>\n",
       "    </tr>\n",
       "    <tr>\n",
       "      <th>std</th>\n",
       "      <td>257.353842</td>\n",
       "      <td>0.486592</td>\n",
       "      <td>0.836071</td>\n",
       "      <td>NaN</td>\n",
       "      <td>NaN</td>\n",
       "      <td>NaN</td>\n",
       "      <td>1.102743</td>\n",
       "      <td>0.806057</td>\n",
       "      <td>NaN</td>\n",
       "      <td>49.693429</td>\n",
       "      <td>NaN</td>\n",
       "      <td>NaN</td>\n",
       "    </tr>\n",
       "    <tr>\n",
       "      <th>min</th>\n",
       "      <td>1.000000</td>\n",
       "      <td>0.000000</td>\n",
       "      <td>1.000000</td>\n",
       "      <td>NaN</td>\n",
       "      <td>NaN</td>\n",
       "      <td>NaN</td>\n",
       "      <td>0.000000</td>\n",
       "      <td>0.000000</td>\n",
       "      <td>NaN</td>\n",
       "      <td>0.000000</td>\n",
       "      <td>NaN</td>\n",
       "      <td>NaN</td>\n",
       "    </tr>\n",
       "    <tr>\n",
       "      <th>25%</th>\n",
       "      <td>223.500000</td>\n",
       "      <td>0.000000</td>\n",
       "      <td>2.000000</td>\n",
       "      <td>NaN</td>\n",
       "      <td>NaN</td>\n",
       "      <td>NaN</td>\n",
       "      <td>0.000000</td>\n",
       "      <td>0.000000</td>\n",
       "      <td>NaN</td>\n",
       "      <td>7.910400</td>\n",
       "      <td>NaN</td>\n",
       "      <td>NaN</td>\n",
       "    </tr>\n",
       "    <tr>\n",
       "      <th>50%</th>\n",
       "      <td>446.000000</td>\n",
       "      <td>0.000000</td>\n",
       "      <td>3.000000</td>\n",
       "      <td>NaN</td>\n",
       "      <td>NaN</td>\n",
       "      <td>NaN</td>\n",
       "      <td>0.000000</td>\n",
       "      <td>0.000000</td>\n",
       "      <td>NaN</td>\n",
       "      <td>14.454200</td>\n",
       "      <td>NaN</td>\n",
       "      <td>NaN</td>\n",
       "    </tr>\n",
       "    <tr>\n",
       "      <th>75%</th>\n",
       "      <td>668.500000</td>\n",
       "      <td>1.000000</td>\n",
       "      <td>3.000000</td>\n",
       "      <td>NaN</td>\n",
       "      <td>NaN</td>\n",
       "      <td>NaN</td>\n",
       "      <td>1.000000</td>\n",
       "      <td>0.000000</td>\n",
       "      <td>NaN</td>\n",
       "      <td>31.000000</td>\n",
       "      <td>NaN</td>\n",
       "      <td>NaN</td>\n",
       "    </tr>\n",
       "    <tr>\n",
       "      <th>max</th>\n",
       "      <td>891.000000</td>\n",
       "      <td>1.000000</td>\n",
       "      <td>3.000000</td>\n",
       "      <td>NaN</td>\n",
       "      <td>NaN</td>\n",
       "      <td>NaN</td>\n",
       "      <td>8.000000</td>\n",
       "      <td>6.000000</td>\n",
       "      <td>NaN</td>\n",
       "      <td>512.329200</td>\n",
       "      <td>NaN</td>\n",
       "      <td>NaN</td>\n",
       "    </tr>\n",
       "  </tbody>\n",
       "</table>\n",
       "</div>"
      ],
      "text/plain": [
       "        PassengerId    Survived      Pclass  \\\n",
       "count    891.000000  891.000000  891.000000   \n",
       "unique          NaN         NaN         NaN   \n",
       "top             NaN         NaN         NaN   \n",
       "freq            NaN         NaN         NaN   \n",
       "mean     446.000000    0.383838    2.308642   \n",
       "std      257.353842    0.486592    0.836071   \n",
       "min        1.000000    0.000000    1.000000   \n",
       "25%      223.500000    0.000000    2.000000   \n",
       "50%      446.000000    0.000000    3.000000   \n",
       "75%      668.500000    1.000000    3.000000   \n",
       "max      891.000000    1.000000    3.000000   \n",
       "\n",
       "                                     Name   Sex           Age       SibSp  \\\n",
       "count                                 891   891           714  891.000000   \n",
       "unique                                891     2             4         NaN   \n",
       "top     Butt, Major. Archibald Willingham  male  (20.0, 40.0]         NaN   \n",
       "freq                                    1   577           385         NaN   \n",
       "mean                                  NaN   NaN           NaN    0.523008   \n",
       "std                                   NaN   NaN           NaN    1.102743   \n",
       "min                                   NaN   NaN           NaN    0.000000   \n",
       "25%                                   NaN   NaN           NaN    0.000000   \n",
       "50%                                   NaN   NaN           NaN    0.000000   \n",
       "75%                                   NaN   NaN           NaN    1.000000   \n",
       "max                                   NaN   NaN           NaN    8.000000   \n",
       "\n",
       "             Parch  Ticket        Fare        Cabin Embarked  \n",
       "count   891.000000     891  891.000000          204      889  \n",
       "unique         NaN     681         NaN          147        3  \n",
       "top            NaN  347082         NaN  C23 C25 C27        S  \n",
       "freq           NaN       7         NaN            4      644  \n",
       "mean      0.381594     NaN   32.204208          NaN      NaN  \n",
       "std       0.806057     NaN   49.693429          NaN      NaN  \n",
       "min       0.000000     NaN    0.000000          NaN      NaN  \n",
       "25%       0.000000     NaN    7.910400          NaN      NaN  \n",
       "50%       0.000000     NaN   14.454200          NaN      NaN  \n",
       "75%       0.000000     NaN   31.000000          NaN      NaN  \n",
       "max       6.000000     NaN  512.329200          NaN      NaN  "
      ]
     },
     "execution_count": 20,
     "metadata": {},
     "output_type": "execute_result"
    }
   ],
   "source": [
    "train.describe(include = 'all')"
   ]
  },
  {
   "cell_type": "raw",
   "id": "735daf89",
   "metadata": {},
   "source": [
    "Age columns is missing some values.\n",
    "cabin columns is missing some values.\n",
    "so lets fill them up. \n",
    "but before that lets drop off some cloumns."
   ]
  },
  {
   "cell_type": "code",
   "execution_count": 21,
   "id": "1eec800f",
   "metadata": {},
   "outputs": [],
   "source": [
    "#since more than 50% of data is missing. \n",
    "train = train.drop(['Cabin'], axis = 1)\n",
    "test = test.drop(['Cabin'], axis = 1)"
   ]
  },
  {
   "cell_type": "code",
   "execution_count": 22,
   "id": "a610e258",
   "metadata": {},
   "outputs": [],
   "source": [
    "train = train.drop(['Ticket'], axis = 1)\n",
    "test = test.drop(['Ticket'], axis = 1)"
   ]
  },
  {
   "cell_type": "code",
   "execution_count": 23,
   "id": "1fb3b74f",
   "metadata": {},
   "outputs": [],
   "source": [
    "train = train.drop(['Fare'], axis = 1)\n",
    "test = test.drop(['Fare'], axis = 1)"
   ]
  },
  {
   "cell_type": "markdown",
   "id": "38e968f7",
   "metadata": {},
   "source": [
    "Now lets fill the columns with missing values"
   ]
  },
  {
   "cell_type": "code",
   "execution_count": 24,
   "id": "6d89b50b",
   "metadata": {},
   "outputs": [],
   "source": [
    "train[['Embarked']] = train[['Embarked']].apply(Le.fit_transform)"
   ]
  },
  {
   "cell_type": "code",
   "execution_count": 25,
   "id": "0d40d212",
   "metadata": {},
   "outputs": [],
   "source": [
    "train[\"Embarked\"] = train[\"Embarked\"].fillna(train[\"Embarked\"].mode()[0])"
   ]
  },
  {
   "cell_type": "code",
   "execution_count": 26,
   "id": "a54bbc97",
   "metadata": {},
   "outputs": [],
   "source": [
    "test[\"Embarked\"] = test[\"Embarked\"].fillna(test[\"Embarked\"].mode()[0])"
   ]
  },
  {
   "cell_type": "code",
   "execution_count": 27,
   "id": "8391c539",
   "metadata": {},
   "outputs": [
    {
     "data": {
      "text/plain": [
       "PassengerId      0\n",
       "Survived         0\n",
       "Pclass           0\n",
       "Name             0\n",
       "Sex              0\n",
       "Age            177\n",
       "SibSp            0\n",
       "Parch            0\n",
       "Embarked         0\n",
       "dtype: int64"
      ]
     },
     "execution_count": 27,
     "metadata": {},
     "output_type": "execute_result"
    }
   ],
   "source": [
    "train.isna().sum()"
   ]
  },
  {
   "cell_type": "code",
   "execution_count": 28,
   "id": "ecb567d2",
   "metadata": {},
   "outputs": [],
   "source": [
    "train[\"Age\"] = train[\"Age\"].fillna(train[\"Age\"].mode()[0])"
   ]
  },
  {
   "cell_type": "code",
   "execution_count": 29,
   "id": "276e67ac",
   "metadata": {},
   "outputs": [],
   "source": [
    "test[\"Age\"] = test[\"Age\"].fillna(test[\"Age\"].mode()[0])"
   ]
  },
  {
   "cell_type": "code",
   "execution_count": 30,
   "id": "e195c69a",
   "metadata": {},
   "outputs": [
    {
     "data": {
      "text/plain": [
       "PassengerId    0\n",
       "Survived       0\n",
       "Pclass         0\n",
       "Name           0\n",
       "Sex            0\n",
       "Age            0\n",
       "SibSp          0\n",
       "Parch          0\n",
       "Embarked       0\n",
       "dtype: int64"
      ]
     },
     "execution_count": 30,
     "metadata": {},
     "output_type": "execute_result"
    }
   ],
   "source": [
    "train.isna().sum()"
   ]
  },
  {
   "cell_type": "code",
   "execution_count": 33,
   "id": "ab3d980f",
   "metadata": {},
   "outputs": [
    {
     "data": {
      "text/html": [
       "<div>\n",
       "<style scoped>\n",
       "    .dataframe tbody tr th:only-of-type {\n",
       "        vertical-align: middle;\n",
       "    }\n",
       "\n",
       "    .dataframe tbody tr th {\n",
       "        vertical-align: top;\n",
       "    }\n",
       "\n",
       "    .dataframe thead th {\n",
       "        text-align: right;\n",
       "    }\n",
       "</style>\n",
       "<table border=\"1\" class=\"dataframe\">\n",
       "  <thead>\n",
       "    <tr style=\"text-align: right;\">\n",
       "      <th></th>\n",
       "      <th>Name</th>\n",
       "      <th>Sex</th>\n",
       "    </tr>\n",
       "  </thead>\n",
       "  <tbody>\n",
       "    <tr>\n",
       "      <th>0</th>\n",
       "      <td>Braund, Mr. Owen Harris</td>\n",
       "      <td>male</td>\n",
       "    </tr>\n",
       "    <tr>\n",
       "      <th>1</th>\n",
       "      <td>Cumings, Mrs. John Bradley (Florence Briggs Th...</td>\n",
       "      <td>female</td>\n",
       "    </tr>\n",
       "    <tr>\n",
       "      <th>2</th>\n",
       "      <td>Heikkinen, Miss. Laina</td>\n",
       "      <td>female</td>\n",
       "    </tr>\n",
       "    <tr>\n",
       "      <th>3</th>\n",
       "      <td>Futrelle, Mrs. Jacques Heath (Lily May Peel)</td>\n",
       "      <td>female</td>\n",
       "    </tr>\n",
       "    <tr>\n",
       "      <th>4</th>\n",
       "      <td>Allen, Mr. William Henry</td>\n",
       "      <td>male</td>\n",
       "    </tr>\n",
       "  </tbody>\n",
       "</table>\n",
       "</div>"
      ],
      "text/plain": [
       "                                                Name     Sex\n",
       "0                            Braund, Mr. Owen Harris    male\n",
       "1  Cumings, Mrs. John Bradley (Florence Briggs Th...  female\n",
       "2                             Heikkinen, Miss. Laina  female\n",
       "3       Futrelle, Mrs. Jacques Heath (Lily May Peel)  female\n",
       "4                           Allen, Mr. William Henry    male"
      ]
     },
     "execution_count": 33,
     "metadata": {},
     "output_type": "execute_result"
    }
   ],
   "source": [
    "train_nd = train.select_dtypes(np.number)\n",
    "train_cd = train.select_dtypes(object)\n",
    "train_cd.head()"
   ]
  },
  {
   "cell_type": "code",
   "execution_count": 34,
   "id": "93e65955",
   "metadata": {},
   "outputs": [
    {
     "data": {
      "text/html": [
       "<div>\n",
       "<style scoped>\n",
       "    .dataframe tbody tr th:only-of-type {\n",
       "        vertical-align: middle;\n",
       "    }\n",
       "\n",
       "    .dataframe tbody tr th {\n",
       "        vertical-align: top;\n",
       "    }\n",
       "\n",
       "    .dataframe thead th {\n",
       "        text-align: right;\n",
       "    }\n",
       "</style>\n",
       "<table border=\"1\" class=\"dataframe\">\n",
       "  <thead>\n",
       "    <tr style=\"text-align: right;\">\n",
       "      <th></th>\n",
       "      <th>Name</th>\n",
       "      <th>Sex</th>\n",
       "    </tr>\n",
       "  </thead>\n",
       "  <tbody>\n",
       "    <tr>\n",
       "      <th>0</th>\n",
       "      <td>108</td>\n",
       "      <td>1</td>\n",
       "    </tr>\n",
       "    <tr>\n",
       "      <th>1</th>\n",
       "      <td>190</td>\n",
       "      <td>0</td>\n",
       "    </tr>\n",
       "    <tr>\n",
       "      <th>2</th>\n",
       "      <td>353</td>\n",
       "      <td>0</td>\n",
       "    </tr>\n",
       "    <tr>\n",
       "      <th>3</th>\n",
       "      <td>272</td>\n",
       "      <td>0</td>\n",
       "    </tr>\n",
       "    <tr>\n",
       "      <th>4</th>\n",
       "      <td>15</td>\n",
       "      <td>1</td>\n",
       "    </tr>\n",
       "  </tbody>\n",
       "</table>\n",
       "</div>"
      ],
      "text/plain": [
       "   Name  Sex\n",
       "0   108    1\n",
       "1   190    0\n",
       "2   353    0\n",
       "3   272    0\n",
       "4    15    1"
      ]
     },
     "execution_count": 34,
     "metadata": {},
     "output_type": "execute_result"
    }
   ],
   "source": [
    "train_cd1 = train_cd.apply(Le.fit_transform)\n",
    "train_cd1.head()"
   ]
  },
  {
   "cell_type": "code",
   "execution_count": 35,
   "id": "69c5a2ec",
   "metadata": {},
   "outputs": [],
   "source": [
    "#train_nd1 = pd.DataFrame(Ss.fit_transform(train_nd), columns = train_nd.columns)"
   ]
  },
  {
   "cell_type": "code",
   "execution_count": 36,
   "id": "e98c2c35",
   "metadata": {},
   "outputs": [],
   "source": [
    "final_train_data = pd.concat([train_nd, train_cd1], axis = 1)"
   ]
  },
  {
   "cell_type": "markdown",
   "id": "9eded7ca",
   "metadata": {},
   "source": [
    "# Spliting the data"
   ]
  },
  {
   "cell_type": "code",
   "execution_count": 37,
   "id": "9e686da4",
   "metadata": {},
   "outputs": [],
   "source": [
    "X = final_train_data.drop(['Survived','PassengerId'], axis = 1)\n",
    "y = final_train_data['Survived']"
   ]
  },
  {
   "cell_type": "code",
   "execution_count": 38,
   "id": "b369dba4",
   "metadata": {},
   "outputs": [],
   "source": [
    "X_train,X_test,y_train,y_test = train_test_split(X,y, test_size = 0.2, random_state = 0)"
   ]
  },
  {
   "cell_type": "code",
   "execution_count": 39,
   "id": "12d43de3",
   "metadata": {},
   "outputs": [
    {
     "data": {
      "text/html": [
       "<div>\n",
       "<style scoped>\n",
       "    .dataframe tbody tr th:only-of-type {\n",
       "        vertical-align: middle;\n",
       "    }\n",
       "\n",
       "    .dataframe tbody tr th {\n",
       "        vertical-align: top;\n",
       "    }\n",
       "\n",
       "    .dataframe thead th {\n",
       "        text-align: right;\n",
       "    }\n",
       "</style>\n",
       "<table border=\"1\" class=\"dataframe\">\n",
       "  <thead>\n",
       "    <tr style=\"text-align: right;\">\n",
       "      <th></th>\n",
       "      <th>Pclass</th>\n",
       "      <th>SibSp</th>\n",
       "      <th>Parch</th>\n",
       "      <th>Embarked</th>\n",
       "      <th>Name</th>\n",
       "      <th>Sex</th>\n",
       "    </tr>\n",
       "  </thead>\n",
       "  <tbody>\n",
       "    <tr>\n",
       "      <th>140</th>\n",
       "      <td>3</td>\n",
       "      <td>0</td>\n",
       "      <td>2</td>\n",
       "      <td>0</td>\n",
       "      <td>99</td>\n",
       "      <td>0</td>\n",
       "    </tr>\n",
       "    <tr>\n",
       "      <th>439</th>\n",
       "      <td>2</td>\n",
       "      <td>0</td>\n",
       "      <td>0</td>\n",
       "      <td>2</td>\n",
       "      <td>447</td>\n",
       "      <td>1</td>\n",
       "    </tr>\n",
       "    <tr>\n",
       "      <th>817</th>\n",
       "      <td>2</td>\n",
       "      <td>1</td>\n",
       "      <td>1</td>\n",
       "      <td>0</td>\n",
       "      <td>504</td>\n",
       "      <td>1</td>\n",
       "    </tr>\n",
       "    <tr>\n",
       "      <th>378</th>\n",
       "      <td>3</td>\n",
       "      <td>0</td>\n",
       "      <td>0</td>\n",
       "      <td>0</td>\n",
       "      <td>85</td>\n",
       "      <td>1</td>\n",
       "    </tr>\n",
       "    <tr>\n",
       "      <th>491</th>\n",
       "      <td>3</td>\n",
       "      <td>0</td>\n",
       "      <td>0</td>\n",
       "      <td>2</td>\n",
       "      <td>871</td>\n",
       "      <td>1</td>\n",
       "    </tr>\n",
       "  </tbody>\n",
       "</table>\n",
       "</div>"
      ],
      "text/plain": [
       "     Pclass  SibSp  Parch  Embarked  Name  Sex\n",
       "140       3      0      2         0    99    0\n",
       "439       2      0      0         2   447    1\n",
       "817       2      1      1         0   504    1\n",
       "378       3      0      0         0    85    1\n",
       "491       3      0      0         2   871    1"
      ]
     },
     "execution_count": 39,
     "metadata": {},
     "output_type": "execute_result"
    }
   ],
   "source": [
    "X_train.head()"
   ]
  },
  {
   "cell_type": "markdown",
   "id": "f53dfc89",
   "metadata": {},
   "source": [
    "# Choosing the Models"
   ]
  },
  {
   "cell_type": "raw",
   "id": "602aea8f",
   "metadata": {},
   "source": [
    "Logistic Regression\n",
    "KNN or k-Nearest Neighbors\n",
    "Support Vector Machines\n",
    "Naive Bayes classifier\n",
    "Decision Tree\n",
    "Random Forrest\n",
    "BaggingClassifier\n",
    "AdaBoostClassifier\n",
    "Perceptron\n",
    "Gradient Boosting Classifier\n",
    "Stochastic Gradient Descent"
   ]
  },
  {
   "cell_type": "markdown",
   "id": "b2da9de7",
   "metadata": {},
   "source": [
    "# Logistic Regression\n"
   ]
  },
  {
   "cell_type": "code",
   "execution_count": 40,
   "id": "eb8a1f33",
   "metadata": {},
   "outputs": [
    {
     "name": "stdout",
     "output_type": "stream",
     "text": [
      "Logistic Regression train score: 0.7991573033707865\n",
      "Logistic Regression test score: 0.8044692737430168\n"
     ]
    }
   ],
   "source": [
    "from sklearn.linear_model import LogisticRegression\n",
    "\n",
    "Lr = LogisticRegression()\n",
    "Lr.fit(X_train, y_train)\n",
    "y_pred = Lr.predict(X_test)\n",
    "print(\"Logistic Regression train score:\",Lr.score(X_train,y_train))\n",
    "print(\"Logistic Regression test score:\",Lr.score(X_test,y_test))"
   ]
  },
  {
   "cell_type": "code",
   "execution_count": 102,
   "id": "3ade5287",
   "metadata": {},
   "outputs": [
    {
     "name": "stdout",
     "output_type": "stream",
     "text": [
      "precision_score is:  0.8370669697935873\n",
      "recall_score is : 0.8379888268156425\n",
      "accuracy_score is:      0.8379888268156425\n"
     ]
    }
   ],
   "source": [
    "print(\"precision_score is: \", precision_score(y_test,y_pred, average = 'weighted'))\n",
    "print(\"recall_score is :\", recall_score(y_test,y_pred, average = 'weighted'))\n",
    "print(\"accuracy_score is:     \", accuracy_score(y_test,y_pred))\n",
    "ac1 = accuracy_score(y_test,y_pred)"
   ]
  },
  {
   "cell_type": "markdown",
   "id": "d8d1f68f",
   "metadata": {},
   "source": [
    "# KNN or K-Nearest Neighbous"
   ]
  },
  {
   "cell_type": "code",
   "execution_count": 44,
   "id": "4c9f8e66",
   "metadata": {},
   "outputs": [
    {
     "name": "stdout",
     "output_type": "stream",
     "text": [
      "KNN train score: 0.7345505617977528\n",
      "KNN test score: 0.4860335195530726\n"
     ]
    }
   ],
   "source": [
    "from sklearn.neighbors import KNeighborsClassifier\n",
    "\n",
    "KNN = KNeighborsClassifier()\n",
    "KNN.fit(X_train,y_train)\n",
    "y_pred2 = KNN.predict(X_test)\n",
    "print(\"KNN train score:\",KNN.score(X_train,y_train))\n",
    "print(\"KNN test score:\",KNN.score(X_test,y_test))"
   ]
  },
  {
   "cell_type": "code",
   "execution_count": 90,
   "id": "e9f6e60e",
   "metadata": {},
   "outputs": [
    {
     "name": "stdout",
     "output_type": "stream",
     "text": [
      "precision_score is:  0.4741990714366654\n",
      "recall_score is : 0.4860335195530726\n",
      "f1_score is:      0.4792361221058663\n",
      "accuracy_score is:      0.4860335195530726\n"
     ]
    }
   ],
   "source": [
    "print(\"precision_score is: \", precision_score(y_test,y_pred2, average = 'weighted'))\n",
    "print(\"recall_score is :\", recall_score(y_test,y_pred2, average = 'weighted'))\n",
    "print(\"f1_score is:     \", f1_score(y_test,y_pred2,average='weighted'))\n",
    "print(\"accuracy_score is:     \", accuracy_score(y_test,y_pred2))\n",
    "ac2 = accuracy_score(y_test,y_pred2)"
   ]
  },
  {
   "cell_type": "markdown",
   "id": "826bb1f3",
   "metadata": {},
   "source": [
    "# Support Vector Machines\n"
   ]
  },
  {
   "cell_type": "code",
   "execution_count": 48,
   "id": "911d3bb9",
   "metadata": {},
   "outputs": [
    {
     "name": "stdout",
     "output_type": "stream",
     "text": [
      "SVC train score: 0.6165730337078652\n",
      "SVC test score: 0.6145251396648045\n"
     ]
    }
   ],
   "source": [
    "from sklearn.svm import SVC\n",
    "\n",
    "SVC = SVC()\n",
    "SVC.fit(X_train,y_train)\n",
    "y_pred3 = SVC.predict(X_test)\n",
    "print(\"SVC train score:\",SVC.score(X_train,y_train))\n",
    "print(\"SVC test score:\",SVC.score(X_test,y_test))"
   ]
  },
  {
   "cell_type": "code",
   "execution_count": 91,
   "id": "88bbc6e8",
   "metadata": {},
   "outputs": [
    {
     "name": "stdout",
     "output_type": "stream",
     "text": [
      "precision_score is:  0.37764114728004744\n",
      "recall_score is : 0.6145251396648045\n",
      "f1_score is:      0.4678046045891245\n",
      "accuracy_score is:      0.6145251396648045\n"
     ]
    }
   ],
   "source": [
    "print(\"precision_score is: \", precision_score(y_test,y_pred3, average = 'weighted'))\n",
    "print(\"recall_score is :\", recall_score(y_test,y_pred3, average = 'weighted'))\n",
    "print(\"f1_score is:     \", f1_score(y_test,y_pred3,average='weighted'))\n",
    "print(\"accuracy_score is:     \", accuracy_score(y_test,y_pred3))\n",
    "ac3 =  accuracy_score(y_test,y_pred3)"
   ]
  },
  {
   "cell_type": "markdown",
   "id": "fd36e33b",
   "metadata": {},
   "source": [
    "# Navies Bayes \n"
   ]
  },
  {
   "cell_type": "code",
   "execution_count": 55,
   "id": "9b462dee",
   "metadata": {},
   "outputs": [
    {
     "name": "stdout",
     "output_type": "stream",
     "text": [
      "NB train score: 0.7865168539325843\n",
      "NB test score: 0.8044692737430168\n"
     ]
    }
   ],
   "source": [
    "from sklearn.naive_bayes import GaussianNB\n",
    "\n",
    "NB = GaussianNB()\n",
    "NB.fit(X_train,y_train)\n",
    "y_pred4 = NB.predict(X_test)\n",
    "print(\"NB train score:\",NB.score(X_train,y_train))\n",
    "print(\"NB test score:\",NB.score(X_test,y_test))"
   ]
  },
  {
   "cell_type": "code",
   "execution_count": 92,
   "id": "434caf2d",
   "metadata": {},
   "outputs": [
    {
     "name": "stdout",
     "output_type": "stream",
     "text": [
      "precision_score is:  0.8080282996484114\n",
      "recall_score is : 0.8044692737430168\n",
      "f1_score is:      0.8056140299871624\n",
      "accuracy_score is:      0.8044692737430168\n"
     ]
    }
   ],
   "source": [
    "print(\"precision_score is: \", precision_score(y_test,y_pred4, average = 'weighted'))\n",
    "print(\"recall_score is :\", recall_score(y_test,y_pred4, average = 'weighted'))\n",
    "print(\"f1_score is:     \", f1_score(y_test,y_pred4,average='weighted'))\n",
    "print(\"accuracy_score is:     \", accuracy_score(y_test,y_pred4))\n",
    "ac4 = accuracy_score(y_test,y_pred4)"
   ]
  },
  {
   "cell_type": "markdown",
   "id": "daf0cad8",
   "metadata": {},
   "source": [
    "# Random Forest\n"
   ]
  },
  {
   "cell_type": "code",
   "execution_count": 60,
   "id": "5fa59b19",
   "metadata": {},
   "outputs": [
    {
     "name": "stdout",
     "output_type": "stream",
     "text": [
      "DTC train score: 1.0\n",
      "DTC test score: 0.776536312849162\n"
     ]
    }
   ],
   "source": [
    "from sklearn.tree import DecisionTreeClassifier\n",
    "\n",
    "DTC = DecisionTreeClassifier(criterion='gini', splitter='best', \n",
    "      max_depth=5000, min_samples_split=2, min_samples_leaf=1, \n",
    "      min_weight_fraction_leaf=0.0, max_features=None, \n",
    "      random_state=None, max_leaf_nodes=None, \n",
    "      min_impurity_decrease=0, min_impurity_split=None, \n",
    "      class_weight=None, ccp_alpha=0)\n",
    "\n",
    "DTC.fit(X_train,y_train)\n",
    "y_pred5 = DTC.predict(X_test)\n",
    "print(\"DTC train score:\",DTC.score(X_train,y_train))\n",
    "print(\"DTC test score:\",DTC.score(X_test,y_test))"
   ]
  },
  {
   "cell_type": "code",
   "execution_count": 93,
   "id": "fac82490",
   "metadata": {},
   "outputs": [
    {
     "name": "stdout",
     "output_type": "stream",
     "text": [
      "precision_score is:  0.775462769949137\n",
      "recall_score is : 0.776536312849162\n",
      "f1_score is:      0.7758997906878289\n",
      "accuracy_score is:      0.776536312849162\n"
     ]
    }
   ],
   "source": [
    "print(\"precision_score is: \", precision_score(y_test,y_pred5, average = 'weighted'))\n",
    "print(\"recall_score is :\", recall_score(y_test,y_pred5, average = 'weighted'))\n",
    "print(\"f1_score is:     \", f1_score(y_test,y_pred5,average='weighted'))\n",
    "print(\"accuracy_score is:     \", accuracy_score(y_test,y_pred5))\n",
    "ac5 = accuracy_score(y_test,y_pred5)"
   ]
  },
  {
   "cell_type": "markdown",
   "id": "12330c84",
   "metadata": {},
   "source": [
    "# Random Forest"
   ]
  },
  {
   "cell_type": "code",
   "execution_count": 63,
   "id": "48b7dcc0",
   "metadata": {},
   "outputs": [
    {
     "name": "stdout",
     "output_type": "stream",
     "text": [
      "RFC train score: 1.0\n",
      "RFC test score: 0.7430167597765364\n"
     ]
    }
   ],
   "source": [
    "from sklearn.ensemble import RandomForestClassifier\n",
    "\n",
    "RFC = RandomForestClassifier(n_estimators=500, criterion='gini', max_depth=None, \n",
    "                             min_samples_split=2, min_samples_leaf=1, min_weight_fraction_leaf=0.0, \n",
    "                             max_features='log2', max_leaf_nodes=None, min_impurity_decrease=0.0, \n",
    "                             min_impurity_split=None, bootstrap=True, oob_score=False, n_jobs=-1, \n",
    "                             random_state=None, verbose=0, warm_start=False, class_weight=None, \n",
    "                             ccp_alpha=0.0, max_samples=None)\n",
    "\n",
    "RFC.fit(X_train,y_train)\n",
    "y_pred6 = RFC.predict(X_test)\n",
    "print(\"RFC train score:\",RFC.score(X_train,y_train))\n",
    "print(\"RFC test score:\",RFC.score(X_test,y_test))"
   ]
  },
  {
   "cell_type": "code",
   "execution_count": 94,
   "id": "4ff34017",
   "metadata": {},
   "outputs": [
    {
     "name": "stdout",
     "output_type": "stream",
     "text": [
      "precision_score is:  0.7481908036097981\n",
      "recall_score is : 0.7430167597765364\n",
      "f1_score is:      0.7447680084930125\n",
      "accuracy_score is:      0.7430167597765364\n"
     ]
    }
   ],
   "source": [
    "print(\"precision_score is: \", precision_score(y_test,y_pred6, average = 'weighted'))\n",
    "print(\"recall_score is :\", recall_score(y_test,y_pred6, average = 'weighted'))\n",
    "print(\"f1_score is:     \", f1_score(y_test,y_pred6,average='weighted'))\n",
    "print(\"accuracy_score is:     \", accuracy_score(y_test,y_pred6))\n",
    "ac6 =  accuracy_score(y_test,y_pred6)"
   ]
  },
  {
   "cell_type": "markdown",
   "id": "0463dc80",
   "metadata": {},
   "source": [
    "# Bagging Classifier\n"
   ]
  },
  {
   "cell_type": "code",
   "execution_count": 67,
   "id": "82358619",
   "metadata": {},
   "outputs": [
    {
     "name": "stdout",
     "output_type": "stream",
     "text": [
      "BC train score: 0.973314606741573\n",
      "BC test score: 0.7877094972067039\n"
     ]
    }
   ],
   "source": [
    "from sklearn.ensemble import BaggingClassifier\n",
    "\n",
    "BC = BaggingClassifier(base_estimator = DTC)\n",
    "BC.fit(X_train,y_train)\n",
    "y_pred7 = BC.predict(X_test)\n",
    "print(\"BC train score:\",BC.score(X_train,y_train))\n",
    "print(\"BC test score:\",BC.score(X_test,y_test))"
   ]
  },
  {
   "cell_type": "code",
   "execution_count": 95,
   "id": "5f045851",
   "metadata": {},
   "outputs": [
    {
     "name": "stdout",
     "output_type": "stream",
     "text": [
      "precision_score is:  0.7759552042160738\n",
      "recall_score is : 0.7759552042160738\n",
      "f1_score is:      0.7759552042160738\n",
      "accuracy_score is:      0.7877094972067039\n"
     ]
    }
   ],
   "source": [
    "print(\"precision_score is: \", precision_score(y_test,y_pred7, average = 'macro'))\n",
    "print(\"recall_score is :\", recall_score(y_test,y_pred7, average = 'macro'))\n",
    "print(\"f1_score is:     \", f1_score(y_test,y_pred7,average='macro'))\n",
    "print(\"accuracy_score is:     \", accuracy_score(y_test,y_pred7))\n",
    "ac7 = accuracy_score(y_test,y_pred7)"
   ]
  },
  {
   "cell_type": "markdown",
   "id": "0b64f6f9",
   "metadata": {},
   "source": [
    "# Adaboost classifier"
   ]
  },
  {
   "cell_type": "code",
   "execution_count": 77,
   "id": "ed10f631",
   "metadata": {},
   "outputs": [
    {
     "name": "stdout",
     "output_type": "stream",
     "text": [
      "ADB train score: 0.8216292134831461\n",
      "ADB test score: 0.8044692737430168\n"
     ]
    }
   ],
   "source": [
    "from sklearn.ensemble import AdaBoostClassifier\n",
    "\n",
    "ADB = AdaBoostClassifier()\n",
    "ADB.fit(X_train, y_train)\n",
    "y_pred8 = ADB.predict(X_test)\n",
    "print(\"ADB train score:\",ADB.score(X_train,y_train))\n",
    "print(\"ADB test score:\",ADB.score(X_test,y_test))"
   ]
  },
  {
   "cell_type": "code",
   "execution_count": 96,
   "id": "a321135d",
   "metadata": {},
   "outputs": [
    {
     "name": "stdout",
     "output_type": "stream",
     "text": [
      "precision_score is:  0.8027803922759291\n",
      "recall_score is : 0.8044692737430168\n",
      "f1_score is:      0.8029664477767976\n",
      "accuracy_score is:      0.8044692737430168\n"
     ]
    }
   ],
   "source": [
    "print(\"precision_score is: \", precision_score(y_test,y_pred8, average = 'weighted'))\n",
    "print(\"recall_score is :\", recall_score(y_test,y_pred8, average = 'weighted'))\n",
    "print(\"f1_score is:     \", f1_score(y_test,y_pred8,average='weighted'))\n",
    "print(\"accuracy_score is:     \", accuracy_score(y_test,y_pred8))\n",
    "ac8 = accuracy_score(y_test,y_pred8)"
   ]
  },
  {
   "cell_type": "markdown",
   "id": "b5739c48",
   "metadata": {},
   "source": [
    "# Perceptron"
   ]
  },
  {
   "cell_type": "code",
   "execution_count": 79,
   "id": "f2209393",
   "metadata": {},
   "outputs": [
    {
     "name": "stdout",
     "output_type": "stream",
     "text": [
      "PR train score: 0.6165730337078652\n",
      "PR test score: 0.6145251396648045\n"
     ]
    }
   ],
   "source": [
    "from sklearn.linear_model import Perceptron\n",
    "PR = Perceptron()\n",
    "PR.fit(X_train,y_train)\n",
    "y_pred9 = PR.predict(X_test)\n",
    "print(\"PR train score:\",PR.score(X_train,y_train))\n",
    "print(\"PR test score:\",PR.score(X_test,y_test))"
   ]
  },
  {
   "cell_type": "code",
   "execution_count": 97,
   "id": "86ae03f1",
   "metadata": {},
   "outputs": [
    {
     "name": "stdout",
     "output_type": "stream",
     "text": [
      "accuracy_score is:      0.6145251396648045\n"
     ]
    }
   ],
   "source": [
    "print(\"accuracy_score is:     \", accuracy_score(y_test,y_pred9))\n",
    "ac9 = accuracy_score(y_test,y_pred9)"
   ]
  },
  {
   "cell_type": "markdown",
   "id": "416ade64",
   "metadata": {},
   "source": [
    "# Gradient Boosting Classifier"
   ]
  },
  {
   "cell_type": "code",
   "execution_count": 82,
   "id": "28a7be54",
   "metadata": {},
   "outputs": [
    {
     "name": "stdout",
     "output_type": "stream",
     "text": [
      "GBC train score: 0.8665730337078652\n",
      "GBC test score: 0.8379888268156425\n"
     ]
    }
   ],
   "source": [
    "from sklearn.ensemble import GradientBoostingClassifier\n",
    "\n",
    "GBC = GradientBoostingClassifier()\n",
    "GBC.fit(X_train, y_train)\n",
    "y_pred10 = GBC.predict(X_test)\n",
    "print(\"GBC train score:\",GBC.score(X_train,y_train))\n",
    "print(\"GBC test score:\",GBC.score(X_test,y_test))"
   ]
  },
  {
   "cell_type": "code",
   "execution_count": 98,
   "id": "aef5a7f1",
   "metadata": {},
   "outputs": [
    {
     "name": "stdout",
     "output_type": "stream",
     "text": [
      "precision_score is:  0.8370669697935873\n",
      "recall_score is : 0.8379888268156425\n",
      "f1_score is:      0.8361582536512363\n",
      "accuracy_score is:      0.8379888268156425\n"
     ]
    }
   ],
   "source": [
    "print(\"precision_score is: \", precision_score(y_test,y_pred10, average = 'weighted'))\n",
    "print(\"recall_score is :\", recall_score(y_test,y_pred10, average = 'weighted'))\n",
    "print(\"f1_score is:     \", f1_score(y_test,y_pred10 ,average='weighted'))\n",
    "print(\"accuracy_score is:     \", accuracy_score(y_test,y_pred10))\n",
    "ac10 = accuracy_score(y_test,y_pred10)"
   ]
  },
  {
   "cell_type": "markdown",
   "id": "fd0735a6",
   "metadata": {},
   "source": [
    "# Stochastic Gradient Descent"
   ]
  },
  {
   "cell_type": "code",
   "execution_count": 84,
   "id": "2ea476df",
   "metadata": {},
   "outputs": [
    {
     "name": "stdout",
     "output_type": "stream",
     "text": [
      "SGD train score: 0.6137640449438202\n",
      "SGD test score: 0.6145251396648045\n"
     ]
    }
   ],
   "source": [
    "from sklearn.linear_model import SGDClassifier\n",
    "\n",
    "SGD = SGDClassifier()\n",
    "SGD.fit(X_train,y_train)\n",
    "y_pred11 = SGD.predict(X_test)\n",
    "print(\"SGD train score:\",SGD.score(X_train,y_train))\n",
    "print(\"SGD test score:\",SGD.score(X_test,y_test))"
   ]
  },
  {
   "cell_type": "code",
   "execution_count": 99,
   "id": "0ea621b3",
   "metadata": {},
   "outputs": [
    {
     "name": "stdout",
     "output_type": "stream",
     "text": [
      "precision_score is:  0.37764114728004744\n",
      "recall_score is : 0.6145251396648045\n",
      "f1_score is:      0.4678046045891245\n",
      "accuracy_score is:      0.6145251396648045\n"
     ]
    }
   ],
   "source": [
    "print(\"precision_score is: \", precision_score(y_test,y_pred11, average = 'weighted'))\n",
    "print(\"recall_score is :\", recall_score(y_test,y_pred11, average = 'weighted'))\n",
    "print(\"f1_score is:     \", f1_score(y_test,y_pred11 ,average='weighted'))\n",
    "print(\"accuracy_score is:     \", accuracy_score(y_test,y_pred11))\n",
    "ac11 = accuracy_score(y_test,y_pred11)"
   ]
  },
  {
   "cell_type": "markdown",
   "id": "cc3f4b4d",
   "metadata": {},
   "source": [
    "Comaparing Models with each other"
   ]
  },
  {
   "cell_type": "code",
   "execution_count": null,
   "id": "e8bae5df",
   "metadata": {},
   "outputs": [],
   "source": [
    "Logistic Regression\n",
    "KNN or k-Nearest Neighbors\n",
    "Support Vector Machines\n",
    "Naive Bayes classifier\n",
    "Decision Tree\n",
    "Random Forrest\n",
    "BaggingClassifier\n",
    "AdaBoostClassifier\n",
    "Perceptron\n",
    "Gradient Boosting Classifier\n",
    "Stochastic Gradient Descent"
   ]
  },
  {
   "cell_type": "code",
   "execution_count": 103,
   "id": "a09e8125",
   "metadata": {},
   "outputs": [
    {
     "data": {
      "text/html": [
       "<div>\n",
       "<style scoped>\n",
       "    .dataframe tbody tr th:only-of-type {\n",
       "        vertical-align: middle;\n",
       "    }\n",
       "\n",
       "    .dataframe tbody tr th {\n",
       "        vertical-align: top;\n",
       "    }\n",
       "\n",
       "    .dataframe thead th {\n",
       "        text-align: right;\n",
       "    }\n",
       "</style>\n",
       "<table border=\"1\" class=\"dataframe\">\n",
       "  <thead>\n",
       "    <tr style=\"text-align: right;\">\n",
       "      <th></th>\n",
       "      <th>Model</th>\n",
       "      <th>Score</th>\n",
       "    </tr>\n",
       "  </thead>\n",
       "  <tbody>\n",
       "    <tr>\n",
       "      <th>0</th>\n",
       "      <td>Logistic Regression</td>\n",
       "      <td>0.837989</td>\n",
       "    </tr>\n",
       "    <tr>\n",
       "      <th>9</th>\n",
       "      <td>Gradient Boosting Classifier</td>\n",
       "      <td>0.837989</td>\n",
       "    </tr>\n",
       "    <tr>\n",
       "      <th>3</th>\n",
       "      <td>Naive Bayes classifier</td>\n",
       "      <td>0.804469</td>\n",
       "    </tr>\n",
       "    <tr>\n",
       "      <th>7</th>\n",
       "      <td>AdaBoostClassifier</td>\n",
       "      <td>0.804469</td>\n",
       "    </tr>\n",
       "    <tr>\n",
       "      <th>6</th>\n",
       "      <td>BaggingClassifier</td>\n",
       "      <td>0.787709</td>\n",
       "    </tr>\n",
       "    <tr>\n",
       "      <th>4</th>\n",
       "      <td>Decision Tree</td>\n",
       "      <td>0.776536</td>\n",
       "    </tr>\n",
       "    <tr>\n",
       "      <th>5</th>\n",
       "      <td>Random Forrest</td>\n",
       "      <td>0.743017</td>\n",
       "    </tr>\n",
       "    <tr>\n",
       "      <th>2</th>\n",
       "      <td>Support Vector Machines</td>\n",
       "      <td>0.614525</td>\n",
       "    </tr>\n",
       "    <tr>\n",
       "      <th>8</th>\n",
       "      <td>Perceptron</td>\n",
       "      <td>0.614525</td>\n",
       "    </tr>\n",
       "    <tr>\n",
       "      <th>10</th>\n",
       "      <td>Stochastic Gradient Descent</td>\n",
       "      <td>0.614525</td>\n",
       "    </tr>\n",
       "    <tr>\n",
       "      <th>1</th>\n",
       "      <td>KNN or k-Nearest Neighbors</td>\n",
       "      <td>0.486034</td>\n",
       "    </tr>\n",
       "  </tbody>\n",
       "</table>\n",
       "</div>"
      ],
      "text/plain": [
       "                           Model     Score\n",
       "0            Logistic Regression  0.837989\n",
       "9   Gradient Boosting Classifier  0.837989\n",
       "3         Naive Bayes classifier  0.804469\n",
       "7             AdaBoostClassifier  0.804469\n",
       "6              BaggingClassifier  0.787709\n",
       "4                  Decision Tree  0.776536\n",
       "5                 Random Forrest  0.743017\n",
       "2        Support Vector Machines  0.614525\n",
       "8                     Perceptron  0.614525\n",
       "10   Stochastic Gradient Descent  0.614525\n",
       "1     KNN or k-Nearest Neighbors  0.486034"
      ]
     },
     "execution_count": 103,
     "metadata": {},
     "output_type": "execute_result"
    }
   ],
   "source": [
    "Models = pd.DataFrame({\n",
    "    'Model' : ['Logistic Regression','KNN or k-Nearest Neighbors','Support Vector Machines',\n",
    "              'Naive Bayes classifier', 'Decision Tree', 'Random Forrest', 'BaggingClassifier',\n",
    "              'AdaBoostClassifier','Perceptron','Gradient Boosting Classifier',\n",
    "              'Stochastic Gradient Descent'],\n",
    "    'Score' : [ac1,ac2,ac3,ac4,ac5,ac6,ac7,ac8,ac9,ac10,ac11]\n",
    "})\n",
    "\n",
    "Models.sort_values(by = 'Score', ascending = False)"
   ]
  },
  {
   "cell_type": "code",
   "execution_count": null,
   "id": "7ef43881",
   "metadata": {},
   "outputs": [],
   "source": []
  }
 ],
 "metadata": {
  "kernelspec": {
   "display_name": "Python 3",
   "language": "python",
   "name": "python3"
  },
  "language_info": {
   "codemirror_mode": {
    "name": "ipython",
    "version": 3
   },
   "file_extension": ".py",
   "mimetype": "text/x-python",
   "name": "python",
   "nbconvert_exporter": "python",
   "pygments_lexer": "ipython3",
   "version": "3.6.13"
  }
 },
 "nbformat": 4,
 "nbformat_minor": 5
}
